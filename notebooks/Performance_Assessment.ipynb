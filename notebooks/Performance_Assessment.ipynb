{
 "cells": [
  {
   "cell_type": "markdown",
   "metadata": {},
   "source": [
    "# Introduction\n",
    "Once the training is done, visualisation of the output is really helpful for a qualitative inspection. However, one may want to have also some synthetic, reliable measures that quantify the goodness of fit of the model.\n",
    "\n",
    "In this notebook we will see some quantitative metrics that may be useful to assess model performances for the analysis presented."
   ]
  },
  {
   "cell_type": "markdown",
   "metadata": {},
   "source": [
    "### Imports\n",
    "Import libraries and write settings here."
   ]
  },
  {
   "cell_type": "code",
   "execution_count": 1,
   "metadata": {
    "ExecuteTime": {
     "end_time": "2019-07-20T20:21:38.238515Z",
     "start_time": "2019-07-20T20:21:37.403443Z"
    }
   },
   "outputs": [
    {
     "name": "stderr",
     "output_type": "stream",
     "text": [
      "/home/luca/anaconda3/envs/tensorflow/lib/python3.6/site-packages/plotly/graph_objs/_deprecations.py:558: DeprecationWarning:\n",
      "\n",
      "plotly.graph_objs.YAxis is deprecated.\n",
      "Please replace it with one of the following more specific types\n",
      "  - plotly.graph_objs.layout.YAxis\n",
      "  - plotly.graph_objs.layout.scene.YAxis\n",
      "\n",
      "\n",
      "/home/luca/anaconda3/envs/tensorflow/lib/python3.6/site-packages/plotly/graph_objs/_deprecations.py:531: DeprecationWarning:\n",
      "\n",
      "plotly.graph_objs.XAxis is deprecated.\n",
      "Please replace it with one of the following more specific types\n",
      "  - plotly.graph_objs.layout.XAxis\n",
      "  - plotly.graph_objs.layout.scene.XAxis\n",
      "\n",
      "\n"
     ]
    },
    {
     "data": {
      "text/html": [
       "        <script type=\"text/javascript\">\n",
       "        window.PlotlyConfig = {MathJaxConfig: 'local'};\n",
       "        if (window.MathJax) {MathJax.Hub.Config({SVG: {font: \"STIX-Web\"}});}\n",
       "        if (typeof require !== 'undefined') {\n",
       "        require.undef(\"plotly\");\n",
       "        requirejs.config({\n",
       "            paths: {\n",
       "                'plotly': ['https://cdn.plot.ly/plotly-latest.min']\n",
       "            }\n",
       "        });\n",
       "        require(['plotly'], function(Plotly) {\n",
       "            window._Plotly = Plotly;\n",
       "        });\n",
       "        }\n",
       "        </script>\n",
       "        "
      ]
     },
     "metadata": {},
     "output_type": "display_data"
    }
   ],
   "source": [
    "# Data manipulation\n",
    "import pandas as pd\n",
    "import numpy as np\n",
    "\n",
    "# Options for pandas\n",
    "pd.options.display.max_columns = 50\n",
    "pd.options.display.max_rows = 30\n",
    "pd.options.display.float_format = '{:,.4f}'.format\n",
    "\n",
    "# Display all cell outputs\n",
    "from IPython.core.interactiveshell import InteractiveShell\n",
    "InteractiveShell.ast_node_interactivity = 'all'\n",
    "\n",
    "from IPython import get_ipython\n",
    "ipython = get_ipython()\n",
    "\n",
    "# autoreload extension\n",
    "if 'autoreload' not in ipython.extension_manager.loaded:\n",
    "    %load_ext autoreload\n",
    "\n",
    "%autoreload 2\n",
    "\n",
    "# Visualizations\n",
    "import seaborn as sns\n",
    "#import plotly.plotly as py\n",
    "#import plotly.graph_objs as go\n",
    "#from plotly.offline import iplot, init_notebook_mode\n",
    "#init_notebook_mode(connected=True)\n",
    "\n",
    "import cufflinks as cf\n",
    "cf.go_offline(connected=True)\n",
    "cf.set_config_file(theme='white')"
   ]
  },
  {
   "cell_type": "markdown",
   "metadata": {},
   "source": [
    "## General packages  "
   ]
  },
  {
   "cell_type": "code",
   "execution_count": 2,
   "metadata": {
    "ExecuteTime": {
     "end_time": "2019-07-20T20:21:40.921083Z",
     "start_time": "2019-07-20T20:21:40.238516Z"
    }
   },
   "outputs": [
    {
     "name": "stderr",
     "output_type": "stream",
     "text": [
      "Using TensorFlow backend.\n"
     ]
    }
   ],
   "source": [
    "import tensorflow as tf\n",
    "from keras.preprocessing.image import ImageDataGenerator\n",
    "from keras.models import load_model, Model, Sequential\n",
    "from keras.layers.pooling import MaxPooling2D\n",
    "from keras.layers.merge import concatenate\n",
    "from keras.layers.core import Dropout, Lambda\n",
    "from keras.layers.convolutional import Conv2D, Conv2DTranspose\n",
    "from keras.layers import Input, Dropout, Activation, Conv2D, MaxPooling2D, UpSampling2D, Lambda, BatchNormalization\n",
    "from keras.callbacks import Callback, EarlyStopping, ReduceLROnPlateau, ModelCheckpoint\n",
    "from keras import callbacks, initializers, layers, models, optimizers\n",
    "from keras import backend as K\n",
    "\n",
    "import cv2"
   ]
  },
  {
   "cell_type": "markdown",
   "metadata": {},
   "source": [
    "## Custom modules "
   ]
  },
  {
   "cell_type": "code",
   "execution_count": 3,
   "metadata": {
    "ExecuteTime": {
     "end_time": "2019-07-20T20:21:43.221158Z",
     "start_time": "2019-07-20T20:21:43.032924Z"
    }
   },
   "outputs": [],
   "source": [
    "import sys\n",
    "code_path = \"../code\"\n",
    "sys.path.append(code_path)\n",
    "\n",
    "from config_script import *\n",
    "import training\n",
    "import post_processing\n",
    "import visualise_results"
   ]
  },
  {
   "cell_type": "markdown",
   "metadata": {},
   "source": [
    "# Analysis/Modeling"
   ]
  },
  {
   "cell_type": "markdown",
   "metadata": {},
   "source": [
    "## Training metrics "
   ]
  },
  {
   "cell_type": "markdown",
   "metadata": {},
   "source": [
    "As first thing we can have a look at the loss and the metrics when applying the model to new, unseen images."
   ]
  },
  {
   "cell_type": "code",
   "execution_count": 4,
   "metadata": {
    "ExecuteTime": {
     "end_time": "2019-07-20T20:21:49.284519Z",
     "start_time": "2019-07-20T20:21:49.023852Z"
    }
   },
   "outputs": [
    {
     "name": "stdout",
     "output_type": "stream",
     "text": [
      "Found 17 images belonging to 1 classes.\n",
      "Found 17 images belonging to 1 classes.\n"
     ]
    }
   ],
   "source": [
    "test_generator, v, seed = training.setup_pipeline(custom_augmentation=None, training_img_path=SAMPLE_IMG_PATH,\n",
    "                                    training_masks_path=SAMPLE_MASKS_PATH, valid_img_path=None,\n",
    "                                    valid_masks_path=None, IMG_HEIGHT=1200,IMG_WIDTH=1600,\n",
    "                                    val_percentage=0.3, color='rgb', BATCH_SIZE=3, VALID_BATCH_SIZE=3, seed=None)"
   ]
  },
  {
   "cell_type": "code",
   "execution_count": 5,
   "metadata": {
    "ExecuteTime": {
     "end_time": "2019-07-20T20:21:51.294672Z",
     "start_time": "2019-07-20T20:21:51.266625Z"
    }
   },
   "outputs": [],
   "source": [
    "def mean_iou(y_true, y_pred):\n",
    "    prec = []\n",
    "    for t in np.arange(0.2, 0.8, 0.05):\n",
    "        y_pred_ = tf.to_int32(y_pred > t)\n",
    "        score, up_opt = tf.metrics.mean_iou(y_true, y_pred_, 2)\n",
    "        K.get_session().run(tf.local_variables_initializer())\n",
    "        with tf.control_dependencies([up_opt]):\n",
    "            score = tf.identity(score)\n",
    "        prec.append(score)\n",
    "    return K.mean(K.stack(prec), axis=0)\n",
    "\n",
    "# dice loss\n",
    "\n",
    "\n",
    "def dice_coef(y_true, y_pred):\n",
    "    \"\"\"Generate the 'Dice' coefficient for the provided prediction.\n",
    "    Args:\n",
    "        y_true: The expected/desired output mask.\n",
    "        y_pred: The actual/predicted mask.\n",
    "    Returns:\n",
    "        The Dice coefficient between the expected and actual outputs. Values\n",
    "        closer to 1 are considered 'better'.\n",
    "    \"\"\"\n",
    "    smooth = 1.\n",
    "    y_true_f = K.flatten(y_true)\n",
    "    y_pred_f = K.flatten(y_pred)\n",
    "    intersection = K.sum(y_true_f * y_pred_f)\n",
    "    return (2. * intersection + smooth) / (K.sum(y_true_f) + K.sum(y_pred_f) + smooth)\n",
    "\n",
    "\n",
    "def dice_coef_loss(y_true, y_pred):\n",
    "    \"\"\"Model loss function using the 'Dice' coefficient.\n",
    "    Args:\n",
    "        y_true: The expected/desired output mask.\n",
    "        y_pred: The actual/predicted mask.\n",
    "    Returns:\n",
    "        The corresponding loss, related to the dice coefficient between the expected\n",
    "        and actual outputs. Values closer to 0 are considered 'better'.\n",
    "    \"\"\"\n",
    "    return -dice_coef(y_true, y_pred)"
   ]
  },
  {
   "cell_type": "code",
   "execution_count": 6,
   "metadata": {
    "ExecuteTime": {
     "end_time": "2019-07-20T20:21:56.967836Z",
     "start_time": "2019-07-20T20:21:52.809158Z"
    }
   },
   "outputs": [],
   "source": [
    "model = load_model(str(MODEL_CHECKPOINTS/ 'UNet_RGB_notebook_AML.h5'),\n",
    "                   custom_objects={'mean_iou': mean_iou, 'dice_coef': dice_coef})"
   ]
  },
  {
   "cell_type": "code",
   "execution_count": 7,
   "metadata": {
    "ExecuteTime": {
     "end_time": "2019-07-20T20:22:22.374804Z",
     "start_time": "2019-07-20T20:21:56.969210Z"
    }
   },
   "outputs": [],
   "source": [
    "metrics = model.evaluate_generator(generator=test_generator, steps=9 )"
   ]
  },
  {
   "cell_type": "code",
   "execution_count": 8,
   "metadata": {
    "ExecuteTime": {
     "end_time": "2019-07-20T20:22:22.400064Z",
     "start_time": "2019-07-20T20:22:22.376253Z"
    }
   },
   "outputs": [
    {
     "name": "stdout",
     "output_type": "stream",
     "text": [
      "Binary Crossentropy: 0.0403\n",
      "Mean Intersection Union: 0.4393\n",
      "Dice Coefficient: 0.0172\n"
     ]
    }
   ],
   "source": [
    "metrics_label = [\"Binary Crossentropy:\", \"Mean Intersection Union:\", \"Dice Coefficient:\"]\n",
    "for idx, m in enumerate(metrics):\n",
    "    print(metrics_label[idx], round(m, 4))"
   ]
  },
  {
   "cell_type": "markdown",
   "metadata": {},
   "source": [
    "## Counting score "
   ]
  },
  {
   "cell_type": "markdown",
   "metadata": {},
   "source": [
    "Now we can try to extract better indicators of model's performances with respect to the task of interest: counting neuronal cells."
   ]
  },
  {
   "cell_type": "code",
   "execution_count": 9,
   "metadata": {
    "ExecuteTime": {
     "end_time": "2019-07-20T20:22:56.456323Z",
     "start_time": "2019-07-20T20:22:25.828547Z"
    }
   },
   "outputs": [
    {
     "name": "stdout",
     "output_type": "stream",
     "text": [
      "CPU times: user 27.5 s, sys: 4.49 s, total: 31.9 s\n",
      "Wall time: 30.6 s\n"
     ]
    }
   ],
   "source": [
    "%%time\n",
    "\n",
    "threshold = 0.018\n",
    "\n",
    "# create dataframe for storing performance measures\n",
    "test_metrics = pd.DataFrame(\n",
    "    columns=[\"TP\", \"FP\", \"FN\", \"Target_count\", \"Predicted_count\"])\n",
    "\n",
    "# loop on test images\n",
    "for img_path in SAMPLE_IMG_PATH.iterdir():\n",
    "    img_name = img_path.name\n",
    "\n",
    "    mask_path = SAMPLE_MASKS_PATH / img_name\n",
    "\n",
    "    # read original image\n",
    "    img = cv2.imread(str(img_path), cv2.IMREAD_COLOR)\n",
    "    img = cv2.cvtColor(img, cv2.COLOR_BGR2RGB)\n",
    "\n",
    "    # compute predicted mask and extract predicted objects and counts\n",
    "    pred_mask_rgb = post_processing.make_prediction(img_path, threshold, model)\n",
    "\n",
    "    # read mask and extract target objects and counts\n",
    "    mask = cv2.imread(str(mask_path), cv2.IMREAD_GRAYSCALE)\n",
    "\n",
    "    post_processing.compute_metrics(pred_mask_rgb, mask, test_metrics, img_path.name)\n",
    "\n",
    "# compute performance measures for the current threshold\n",
    "summary_metrics = post_processing.F1Score(test_metrics)"
   ]
  },
  {
   "cell_type": "markdown",
   "metadata": {},
   "source": [
    "### Mean Absolute Error "
   ]
  },
  {
   "cell_type": "markdown",
   "metadata": {},
   "source": [
    "A straightforward way to assess the performances in the counting task is to compare predicted and true objects by means of the mean absoulte error (MAE) and the mean percentage error (MPE):\n",
    "\n",
    "$$\\text{MAE} = \\lvert predicted -true \\rvert \\hskip 3cm  \\text{MPE} = \\frac{predicted - true }{ true}$$"
   ]
  },
  {
   "cell_type": "code",
   "execution_count": 10,
   "metadata": {
    "ExecuteTime": {
     "end_time": "2019-07-20T20:22:56.905065Z",
     "start_time": "2019-07-20T20:22:56.458042Z"
    }
   },
   "outputs": [
    {
     "data": {
      "image/png": "[encoded data removed]",
      "text/plain": [
       "<Figure size 1080x432 with 2 Axes>"
      ]
     },
     "metadata": {},
     "output_type": "display_data"
    }
   ],
   "source": [
    "visualise_results.plot_MAE(test_metrics)"
   ]
  },
  {
   "cell_type": "code",
   "execution_count": 11,
   "metadata": {
    "ExecuteTime": {
     "end_time": "2019-07-20T20:22:57.195079Z",
     "start_time": "2019-07-20T20:22:56.906679Z"
    }
   },
   "outputs": [
    {
     "data": {
      "image/png": "[encoded data removed]",
      "text/plain": [
       "<Figure size 1080x432 with 2 Axes>"
      ]
     },
     "metadata": {},
     "output_type": "display_data"
    }
   ],
   "source": [
    "visualise_results.plot_MPE(test_metrics)"
   ]
  },
  {
   "cell_type": "markdown",
   "metadata": {},
   "source": [
    "As we can see from the plots above, both indicator have a skewed distributions with long right tails. The central tendency of both MAE and MPE is very far from 0, suggesting a great distance between predicted and true counts. In particular, given the negative values for MPE, we can say that on average the model underestimates the number of objects present in the images."
   ]
  },
  {
   "cell_type": "markdown",
   "metadata": {},
   "source": [
    "## Classification metrics "
   ]
  },
  {
   "cell_type": "markdown",
   "metadata": {},
   "source": [
    "Other insights can be drawn looking at classification metrics.\n",
    "\n",
    "Indeed, altough the task at hand is not originally related to classifying correcly the objects, it is still interesting to explore the degree of accordance between cells detected from the model and the ones tagged by human annotators.\n",
    "\n",
    "For this reason, we will investigate some common classification metrics as F1 score, accuracy, precision and recall:\n",
    "\n",
    "$$\\begin{eqnarray*}\n",
    "\\text{F1 score} &=& \\frac{2 \\cdot \\text{precision} \\cdot \\text{recall}}{ \\text{precision} + \\text{recall} }\n",
    "\\\\\n",
    " \\text{accuracy} &=& \\frac{ \\text{TP} }{ \\text{TP} + \\text{FP} + \\text{FN} }\n",
    "\\\\\n",
    " \\text{precision} &=& \\frac{ \\text{TP} }{ \\text{TP} + \\text{TN} }\n",
    "\\\\\n",
    " \\text{recall} &=& \\frac{ \\text{TP} }{ \\text{TP} + \\text{FN} }\n",
    "\\end{eqnarray*}$$\n",
    "\n",
    "where TP = true positives, FP = false positives and FN = false negatives."
   ]
  },
  {
   "cell_type": "code",
   "execution_count": 12,
   "metadata": {
    "ExecuteTime": {
     "end_time": "2019-07-20T20:23:01.529880Z",
     "start_time": "2019-07-20T20:23:01.505151Z"
    }
   },
   "outputs": [
    {
     "name": "stdout",
     "output_type": "stream",
     "text": [
      "F1 score: 0.362\n",
      "Mean Absolute Error: 52.75\n",
      "Mean Percentage Error: -0.3706\n",
      "Accuracy 0.221\n",
      "Precision: 0.6032\n",
      "Recall: 0.2586\n"
     ]
    }
   ],
   "source": [
    "metrics_label = [\"F1 score:\", \"Mean Absolute Error:\", \"Mean Percentage Error:\", \n",
    "                 \"Accuracy\", \"Precision:\", \"Recall:\"]\n",
    "for idx, m in enumerate(summary_metrics):\n",
    "    print(metrics_label[idx], round(m, 4))"
   ]
  },
  {
   "cell_type": "markdown",
   "metadata": {},
   "source": [
    "Again, the metrics indicate overall poor performances also in the classification task. Nonetheless, the precision is around 60%."
   ]
  }
 ],
 "metadata": {
  "kernelspec": {
   "display_name": "Python 3",
   "language": "python",
   "name": "python3"
  },
  "language_info": {
   "codemirror_mode": {
    "name": "ipython",
    "version": 3
   },
   "file_extension": ".py",
   "mimetype": "text/x-python",
   "name": "python",
   "nbconvert_exporter": "python",
   "pygments_lexer": "ipython3",
   "version": "3.6.5"
  },
  "toc": {
   "base_numbering": 1,
   "nav_menu": {},
   "number_sections": true,
   "sideBar": true,
   "skip_h1_title": false,
   "title_cell": "Table of Contents",
   "title_sidebar": "Contents",
   "toc_cell": false,
   "toc_position": {},
   "toc_section_display": true,
   "toc_window_display": true
  }
 },
 "nbformat": 4,
 "nbformat_minor": 2
}
