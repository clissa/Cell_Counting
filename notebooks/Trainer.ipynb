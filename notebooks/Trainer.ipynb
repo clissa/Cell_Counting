{
 "cells": [
  {
   "cell_type": "markdown",
   "metadata": {},
   "source": [
    "# Introduction\n",
    "Once the pre-processing is done, then it's time to start training the model.\n",
    "\n",
    "In this notebook we will se how to establish a training workflow that reads images and masks in batches, feeds them to the model, updates the model's parameters and then repeats this pipeline until convergence. This is particularly important so to make efficient use of computing resources.\n",
    "\n",
    "Also, we will show some visualisation of training history output."
   ]
  },
  {
   "cell_type": "markdown",
   "metadata": {},
   "source": [
    "### Imports\n",
    "Import libraries and write settings here."
   ]
  },
  {
   "cell_type": "code",
   "execution_count": 1,
   "metadata": {
    "ExecuteTime": {
     "end_time": "2019-07-20T17:44:01.984079Z",
     "start_time": "2019-07-20T17:44:01.165137Z"
    }
   },
   "outputs": [
    {
     "name": "stderr",
     "output_type": "stream",
     "text": [
      "/home/luca/anaconda3/envs/tensorflow/lib/python3.6/site-packages/plotly/graph_objs/_deprecations.py:558: DeprecationWarning:\n",
      "\n",
      "plotly.graph_objs.YAxis is deprecated.\n",
      "Please replace it with one of the following more specific types\n",
      "  - plotly.graph_objs.layout.YAxis\n",
      "  - plotly.graph_objs.layout.scene.YAxis\n",
      "\n",
      "\n",
      "/home/luca/anaconda3/envs/tensorflow/lib/python3.6/site-packages/plotly/graph_objs/_deprecations.py:531: DeprecationWarning:\n",
      "\n",
      "plotly.graph_objs.XAxis is deprecated.\n",
      "Please replace it with one of the following more specific types\n",
      "  - plotly.graph_objs.layout.XAxis\n",
      "  - plotly.graph_objs.layout.scene.XAxis\n",
      "\n",
      "\n"
     ]
    },
    {
     "data": {
      "text/html": [
       "        <script type=\"text/javascript\">\n",
       "        window.PlotlyConfig = {MathJaxConfig: 'local'};\n",
       "        if (window.MathJax) {MathJax.Hub.Config({SVG: {font: \"STIX-Web\"}});}\n",
       "        if (typeof require !== 'undefined') {\n",
       "        require.undef(\"plotly\");\n",
       "        requirejs.config({\n",
       "            paths: {\n",
       "                'plotly': ['https://cdn.plot.ly/plotly-latest.min']\n",
       "            }\n",
       "        });\n",
       "        require(['plotly'], function(Plotly) {\n",
       "            window._Plotly = Plotly;\n",
       "        });\n",
       "        }\n",
       "        </script>\n",
       "        "
      ]
     },
     "metadata": {},
     "output_type": "display_data"
    }
   ],
   "source": [
    "# Data manipulation\n",
    "import pandas as pd\n",
    "import numpy as np\n",
    "\n",
    "# Options for pandas\n",
    "pd.options.display.max_columns = 50\n",
    "pd.options.display.max_rows = 30\n",
    "pd.options.display.float_format = '{:,.4f}'.format\n",
    "\n",
    "# Display all cell outputs\n",
    "from IPython.core.interactiveshell import InteractiveShell\n",
    "InteractiveShell.ast_node_interactivity = 'all'\n",
    "\n",
    "from IPython import get_ipython\n",
    "ipython = get_ipython()\n",
    "\n",
    "# autoreload extension\n",
    "if 'autoreload' not in ipython.extension_manager.loaded:\n",
    "    %load_ext autoreload\n",
    "\n",
    "%autoreload 2\n",
    "\n",
    "# Visualizations\n",
    "import seaborn as sns\n",
    "#import plotly.plotly as py\n",
    "#import plotly.graph_objs as go\n",
    "#from plotly.offline import iplot, init_notebook_mode\n",
    "#init_notebook_mode(connected=True)\n",
    "\n",
    "import cufflinks as cf\n",
    "cf.go_offline(connected=True)\n",
    "cf.set_config_file(theme='white')"
   ]
  },
  {
   "cell_type": "markdown",
   "metadata": {},
   "source": [
    "## General packages"
   ]
  },
  {
   "cell_type": "code",
   "execution_count": 2,
   "metadata": {
    "ExecuteTime": {
     "end_time": "2019-07-20T17:44:04.297049Z",
     "start_time": "2019-07-20T17:44:03.620430Z"
    }
   },
   "outputs": [
    {
     "name": "stderr",
     "output_type": "stream",
     "text": [
      "Using TensorFlow backend.\n"
     ]
    }
   ],
   "source": [
    "import tensorflow as tf\n",
    "from keras.preprocessing.image import ImageDataGenerator\n",
    "from keras.models import load_model, Model, Sequential\n",
    "from keras.layers.pooling import MaxPooling2D\n",
    "from keras.layers.merge import concatenate\n",
    "from keras.layers.core import Dropout, Lambda\n",
    "from keras.layers.convolutional import Conv2D, Conv2DTranspose\n",
    "from keras.layers import Input, Dropout, Activation, Conv2D, MaxPooling2D, UpSampling2D, Lambda, BatchNormalization\n",
    "from keras.callbacks import Callback, EarlyStopping, ReduceLROnPlateau, ModelCheckpoint\n",
    "from keras import callbacks, initializers, layers, models, optimizers\n",
    "from keras import backend as K\n",
    "\n",
    "import random"
   ]
  },
  {
   "cell_type": "markdown",
   "metadata": {},
   "source": [
    "## Custom modules "
   ]
  },
  {
   "cell_type": "code",
   "execution_count": 3,
   "metadata": {
    "ExecuteTime": {
     "end_time": "2019-07-20T17:44:06.019253Z",
     "start_time": "2019-07-20T17:44:05.889011Z"
    }
   },
   "outputs": [],
   "source": [
    "import sys\n",
    "code_path = \"../code\"\n",
    "sys.path.append(code_path)\n",
    "\n",
    "from config_script import *\n",
    "from augmentation import custom_augmenter\n",
    "import training"
   ]
  },
  {
   "cell_type": "markdown",
   "metadata": {},
   "source": [
    "# Analysis/Modeling"
   ]
  },
  {
   "cell_type": "markdown",
   "metadata": {},
   "source": [
    "## Training pipeline "
   ]
  },
  {
   "cell_type": "markdown",
   "metadata": {},
   "source": [
    "First of all we have to establish a workflow from data reading to data feeding into the network. "
   ]
  },
  {
   "cell_type": "code",
   "execution_count": 4,
   "metadata": {
    "ExecuteTime": {
     "end_time": "2019-07-20T17:44:10.234065Z",
     "start_time": "2019-07-20T17:44:10.201553Z"
    }
   },
   "outputs": [],
   "source": [
    "# create path to store validation images separately\n",
    "valid_img_path = RAW_DATA_PATH / \"sample_valid/all_images/images\"\n",
    "valid_masks_path = RAW_DATA_PATH / \"sample_valid/all_masks/images\"\n",
    "valid_img_path.mkdir(parents=True, exist_ok=True)\n",
    "valid_masks_path.mkdir(parents=True, exist_ok=True)"
   ]
  },
  {
   "cell_type": "code",
   "execution_count": 5,
   "metadata": {
    "ExecuteTime": {
     "end_time": "2019-07-20T17:44:11.999227Z",
     "start_time": "2019-07-20T17:44:11.535409Z"
    }
   },
   "outputs": [
    {
     "name": "stdout",
     "output_type": "stream",
     "text": [
      "Found 17 images belonging to 1 classes.\n",
      "Found 17 images belonging to 1 classes.\n",
      "Found 7 images belonging to 1 classes.\n",
      "Found 7 images belonging to 1 classes.\n"
     ]
    }
   ],
   "source": [
    "t, v, seed = training.setup_pipeline(custom_augmentation=custom_augmenter, training_img_path=SAMPLE_IMG_PATH,\n",
    "                                    training_masks_path=SAMPLE_MASKS_PATH, valid_img_path=SAMPLE_IMG_PATH,\n",
    "                                    valid_masks_path=SAMPLE_MASKS_PATH, IMG_HEIGHT=512,IMG_WIDTH=512,\n",
    "                                    val_percentage=0.3, color='rgb', BATCH_SIZE=3, VALID_BATCH_SIZE=3, seed=None)"
   ]
  },
  {
   "cell_type": "markdown",
   "metadata": {},
   "source": [
    "## Model definition "
   ]
  },
  {
   "cell_type": "markdown",
   "metadata": {},
   "source": [
    "Once a training pipeline is setup, the next step is to define a model and to start the learning process."
   ]
  },
  {
   "cell_type": "code",
   "execution_count": 8,
   "metadata": {
    "ExecuteTime": {
     "end_time": "2019-06-14T13:15:26.964275Z",
     "start_time": "2019-06-14T13:15:25.969220Z"
    }
   },
   "outputs": [
    {
     "name": "stdout",
     "output_type": "stream",
     "text": [
      "__________________________________________________________________________________________________\n",
      "Layer (type)                    Output Shape         Param #     Connected to                     \n",
      "==================================================================================================\n",
      "input_1 (InputLayer)            (None, None, None, 3 0                                            \n",
      "__________________________________________________________________________________________________\n",
      "conv2d_1 (Conv2D)               (None, None, None, 3 84          input_1[0][0]                    \n",
      "__________________________________________________________________________________________________\n",
      "conv2d_2 (Conv2D)               (None, None, None, 1 448         conv2d_1[0][0]                   \n",
      "__________________________________________________________________________________________________\n",
      "batch_normalization_1 (BatchNor (None, None, None, 1 64          conv2d_2[0][0]                   \n",
      "__________________________________________________________________________________________________\n",
      "dropout_1 (Dropout)             (None, None, None, 1 0           batch_normalization_1[0][0]      \n",
      "__________________________________________________________________________________________________\n",
      "conv2d_3 (Conv2D)               (None, None, None, 1 2320        dropout_1[0][0]                  \n",
      "__________________________________________________________________________________________________\n",
      "batch_normalization_2 (BatchNor (None, None, None, 1 64          conv2d_3[0][0]                   \n",
      "__________________________________________________________________________________________________\n",
      "max_pooling2d_1 (MaxPooling2D)  (None, None, None, 1 0           batch_normalization_2[0][0]      \n",
      "__________________________________________________________________________________________________\n",
      "conv2d_4 (Conv2D)               (None, None, None, 3 4640        max_pooling2d_1[0][0]            \n",
      "__________________________________________________________________________________________________\n",
      "batch_normalization_3 (BatchNor (None, None, None, 3 128         conv2d_4[0][0]                   \n",
      "__________________________________________________________________________________________________\n",
      "dropout_2 (Dropout)             (None, None, None, 3 0           batch_normalization_3[0][0]      \n",
      "__________________________________________________________________________________________________\n",
      "conv2d_5 (Conv2D)               (None, None, None, 3 9248        dropout_2[0][0]                  \n",
      "__________________________________________________________________________________________________\n",
      "batch_normalization_4 (BatchNor (None, None, None, 3 128         conv2d_5[0][0]                   \n",
      "__________________________________________________________________________________________________\n",
      "conv2d_transpose_1 (Conv2DTrans (None, None, None, 1 2064        batch_normalization_4[0][0]      \n",
      "__________________________________________________________________________________________________\n",
      "concatenate_1 (Concatenate)     (None, None, None, 3 0           conv2d_transpose_1[0][0]         \n",
      "                                                                 batch_normalization_2[0][0]      \n",
      "__________________________________________________________________________________________________\n",
      "conv2d_6 (Conv2D)               (None, None, None, 1 4624        concatenate_1[0][0]              \n",
      "__________________________________________________________________________________________________\n",
      "batch_normalization_5 (BatchNor (None, None, None, 1 64          conv2d_6[0][0]                   \n",
      "__________________________________________________________________________________________________\n",
      "dropout_3 (Dropout)             (None, None, None, 1 0           batch_normalization_5[0][0]      \n",
      "__________________________________________________________________________________________________\n",
      "conv2d_7 (Conv2D)               (None, None, None, 1 2320        dropout_3[0][0]                  \n",
      "__________________________________________________________________________________________________\n",
      "batch_normalization_6 (BatchNor (None, None, None, 1 64          conv2d_7[0][0]                   \n",
      "__________________________________________________________________________________________________\n",
      "conv2d_8 (Conv2D)               (None, None, None, 1 17          batch_normalization_6[0][0]      \n",
      "==================================================================================================\n",
      "Total params: 26,277\n",
      "Trainable params: 26,021\n",
      "Non-trainable params: 256\n",
      "__________________________________________________________________________________________________\n"
     ]
    }
   ],
   "source": [
    "unet = training.make_UNet()\n",
    "unet.summary()"
   ]
  },
  {
   "cell_type": "code",
   "execution_count": 4,
   "metadata": {
    "ExecuteTime": {
     "end_time": "2019-06-18T10:18:10.977765Z",
     "start_time": "2019-06-18T10:18:10.933425Z"
    }
   },
   "outputs": [],
   "source": [
    "def mean_iou(y_true, y_pred):\n",
    "    prec = []\n",
    "    for t in np.arange(0.2, 0.8, 0.05):\n",
    "        y_pred_ = tf.to_int32(y_pred > t)\n",
    "        score, up_opt = tf.metrics.mean_iou(y_true, y_pred_, 2)\n",
    "        K.get_session().run(tf.local_variables_initializer())\n",
    "        with tf.control_dependencies([up_opt]):\n",
    "            score = tf.identity(score)\n",
    "        prec.append(score)\n",
    "    return K.mean(K.stack(prec), axis=0)\n",
    "\n",
    "# dice loss\n",
    "\n",
    "\n",
    "def dice_coef(y_true, y_pred):\n",
    "    \"\"\"Generate the 'Dice' coefficient for the provided prediction.\n",
    "    Args:\n",
    "        y_true: The expected/desired output mask.\n",
    "        y_pred: The actual/predicted mask.\n",
    "    Returns:\n",
    "        The Dice coefficient between the expected and actual outputs. Values\n",
    "        closer to 1 are considered 'better'.\n",
    "    \"\"\"\n",
    "    smooth = 1.\n",
    "    y_true_f = K.flatten(y_true)\n",
    "    y_pred_f = K.flatten(y_pred)\n",
    "    intersection = K.sum(y_true_f * y_pred_f)\n",
    "    return (2. * intersection + smooth) / (K.sum(y_true_f) + K.sum(y_pred_f) + smooth)\n",
    "\n",
    "\n",
    "def dice_coef_loss(y_true, y_pred):\n",
    "    \"\"\"Model loss function using the 'Dice' coefficient.\n",
    "    Args:\n",
    "        y_true: The expected/desired output mask.\n",
    "        y_pred: The actual/predicted mask.\n",
    "    Returns:\n",
    "        The corresponding loss, related to the dice coefficient between the expected\n",
    "        and actual outputs. Values closer to 0 are considered 'better'.\n",
    "    \"\"\"\n",
    "    return -dice_coef(y_true, y_pred)"
   ]
  },
  {
   "cell_type": "markdown",
   "metadata": {},
   "source": [
    "## Set training hyperparameters "
   ]
  },
  {
   "cell_type": "code",
   "execution_count": 10,
   "metadata": {
    "ExecuteTime": {
     "end_time": "2019-06-14T13:15:34.005646Z",
     "start_time": "2019-06-14T13:15:33.977083Z"
    }
   },
   "outputs": [],
   "source": [
    "# set training hyperparameters\n",
    "\n",
    "# STEPS_PER_EPOCH = 10\n",
    "ADAM = optimizers.Adam(lr=0.001)\n",
    "checkpointer = ModelCheckpoint(\n",
    "    str(MODEL_CHECKPOINTS/'UNet_RGB_notebook_AML.h5'), verbose=1, save_best_only=True)\n",
    "earlystopping = EarlyStopping(monitor='val_loss', patience=5)\n",
    "# tensorboard = TensorBoard(log_dir=str(RESULTS_DIRECTORY/'logs'), histogram_freq=0, write_graph=True, write_images=False)\n",
    "\n",
    "reduce_lr = ReduceLROnPlateau(\n",
    "    monitor='val_loss', factor=0.1, patience=2, verbose=1)\n",
    "CALLBACKS = [checkpointer, earlystopping, reduce_lr]  # , tensorboard]\n"
   ]
  },
  {
   "cell_type": "markdown",
   "metadata": {},
   "source": [
    "## Run the model "
   ]
  },
  {
   "cell_type": "code",
   "execution_count": 13,
   "metadata": {
    "ExecuteTime": {
     "end_time": "2019-06-14T13:30:16.067978Z",
     "start_time": "2019-06-14T13:16:38.177991Z"
    }
   },
   "outputs": [
    {
     "name": "stdout",
     "output_type": "stream",
     "text": [
      "Epoch 1/200\n",
      "80/80 [==============================] - 47s 587ms/step - loss: 0.2090 - mean_iou: 0.4411 - dice_coef: 0.0114 - val_loss: 0.1074 - val_mean_iou: 0.4795 - val_dice_coef: 0.0130\n",
      "\n",
      "Epoch 00001: val_loss improved from 0.47986 to 0.10742, saving model to ../results/model_checkpoints/UNet_RGB_notebook_AML.h5\n",
      "Epoch 2/200\n",
      "80/80 [==============================] - 40s 503ms/step - loss: 0.0798 - mean_iou: 0.4863 - dice_coef: 0.0107 - val_loss: 0.0632 - val_mean_iou: 0.4899 - val_dice_coef: 0.0123\n",
      "\n",
      "Epoch 00002: val_loss improved from 0.10742 to 0.06321, saving model to ../results/model_checkpoints/UNet_RGB_notebook_AML.h5\n",
      "Epoch 3/200\n",
      "80/80 [==============================] - 42s 531ms/step - loss: 0.0527 - mean_iou: 0.4917 - dice_coef: 0.0101 - val_loss: 0.0493 - val_mean_iou: 0.4930 - val_dice_coef: 0.0106\n",
      "\n",
      "Epoch 00003: val_loss improved from 0.06321 to 0.04931, saving model to ../results/model_checkpoints/UNet_RGB_notebook_AML.h5\n",
      "Epoch 4/200\n",
      "80/80 [==============================] - 43s 532ms/step - loss: 0.0436 - mean_iou: 0.4939 - dice_coef: 0.0092 - val_loss: 0.0440 - val_mean_iou: 0.4946 - val_dice_coef: 0.0100\n",
      "\n",
      "Epoch 00004: val_loss improved from 0.04931 to 0.04402, saving model to ../results/model_checkpoints/UNet_RGB_notebook_AML.h5\n",
      "Epoch 5/200\n",
      "80/80 [==============================] - 45s 561ms/step - loss: 0.0396 - mean_iou: 0.4950 - dice_coef: 0.0085 - val_loss: 0.0418 - val_mean_iou: 0.4955 - val_dice_coef: 0.0093\n",
      "\n",
      "Epoch 00005: val_loss improved from 0.04402 to 0.04179, saving model to ../results/model_checkpoints/UNet_RGB_notebook_AML.h5\n",
      "Epoch 6/200\n",
      "80/80 [==============================] - 45s 562ms/step - loss: 0.0378 - mean_iou: 0.4958 - dice_coef: 0.0085 - val_loss: 0.0409 - val_mean_iou: 0.4960 - val_dice_coef: 0.0094\n",
      "\n",
      "Epoch 00006: val_loss improved from 0.04179 to 0.04090, saving model to ../results/model_checkpoints/UNet_RGB_notebook_AML.h5\n",
      "Epoch 7/200\n",
      "80/80 [==============================] - 46s 577ms/step - loss: 0.0368 - mean_iou: 0.4963 - dice_coef: 0.0077 - val_loss: 0.0400 - val_mean_iou: 0.4965 - val_dice_coef: 0.0099\n",
      "\n",
      "Epoch 00007: val_loss improved from 0.04090 to 0.03998, saving model to ../results/model_checkpoints/UNet_RGB_notebook_AML.h5\n",
      "Epoch 8/200\n",
      "80/80 [==============================] - 47s 581ms/step - loss: 0.0365 - mean_iou: 0.4966 - dice_coef: 0.0083 - val_loss: 0.0397 - val_mean_iou: 0.4968 - val_dice_coef: 0.0084\n",
      "\n",
      "Epoch 00008: val_loss improved from 0.03998 to 0.03971, saving model to ../results/model_checkpoints/UNet_RGB_notebook_AML.h5\n",
      "Epoch 9/200\n",
      "80/80 [==============================] - 45s 560ms/step - loss: 0.0363 - mean_iou: 0.4969 - dice_coef: 0.0074 - val_loss: 0.0393 - val_mean_iou: 0.4970 - val_dice_coef: 0.0116\n",
      "\n",
      "Epoch 00009: val_loss improved from 0.03971 to 0.03930, saving model to ../results/model_checkpoints/UNet_RGB_notebook_AML.h5\n",
      "Epoch 10/200\n",
      "80/80 [==============================] - 45s 566ms/step - loss: 0.0362 - mean_iou: 0.4971 - dice_coef: 0.0071 - val_loss: 0.0427 - val_mean_iou: 0.4973 - val_dice_coef: 0.0203\n",
      "\n",
      "Epoch 00010: val_loss did not improve from 0.03930\n",
      "Epoch 11/200\n",
      "80/80 [==============================] - 47s 582ms/step - loss: 0.0363 - mean_iou: 0.4974 - dice_coef: 0.0070 - val_loss: 0.0400 - val_mean_iou: 0.4976 - val_dice_coef: 0.0311\n",
      "\n",
      "Epoch 00011: val_loss did not improve from 0.03930\n",
      "\n",
      "Epoch 00011: ReduceLROnPlateau reducing learning rate to 0.00010000000474974513.\n",
      "Epoch 12/200\n",
      "80/80 [==============================] - 46s 569ms/step - loss: 0.0359 - mean_iou: 0.4978 - dice_coef: 0.0078 - val_loss: 0.0394 - val_mean_iou: 0.4978 - val_dice_coef: 0.0100\n",
      "\n",
      "Epoch 00012: val_loss did not improve from 0.03930\n",
      "Epoch 13/200\n",
      "80/80 [==============================] - 46s 575ms/step - loss: 0.0358 - mean_iou: 0.4979 - dice_coef: 0.0078 - val_loss: 0.0390 - val_mean_iou: 0.4979 - val_dice_coef: 0.0098\n",
      "\n",
      "Epoch 00013: val_loss improved from 0.03930 to 0.03898, saving model to ../results/model_checkpoints/UNet_RGB_notebook_AML.h5\n",
      "Epoch 14/200\n",
      "80/80 [==============================] - 47s 584ms/step - loss: 0.0363 - mean_iou: 0.4980 - dice_coef: 0.0069 - val_loss: 0.0397 - val_mean_iou: 0.4980 - val_dice_coef: 0.0078\n",
      "\n",
      "Epoch 00014: val_loss did not improve from 0.03898\n",
      "Epoch 15/200\n",
      "80/80 [==============================] - 47s 593ms/step - loss: 0.0362 - mean_iou: 0.4980 - dice_coef: 0.0069 - val_loss: 0.0398 - val_mean_iou: 0.4981 - val_dice_coef: 0.0075\n",
      "\n",
      "Epoch 00015: val_loss did not improve from 0.03898\n",
      "\n",
      "Epoch 00015: ReduceLROnPlateau reducing learning rate to 1.0000000474974514e-05.\n",
      "Epoch 16/200\n",
      "80/80 [==============================] - 45s 559ms/step - loss: 0.0359 - mean_iou: 0.4981 - dice_coef: 0.0072 - val_loss: 0.0395 - val_mean_iou: 0.4981 - val_dice_coef: 0.0082\n",
      "\n",
      "Epoch 00016: val_loss did not improve from 0.03898\n",
      "Epoch 17/200\n",
      "80/80 [==============================] - 45s 562ms/step - loss: 0.0359 - mean_iou: 0.4981 - dice_coef: 0.0076 - val_loss: 0.0400 - val_mean_iou: 0.4982 - val_dice_coef: 0.0074\n",
      "\n",
      "Epoch 00017: val_loss did not improve from 0.03898\n",
      "\n",
      "Epoch 00017: ReduceLROnPlateau reducing learning rate to 1.0000000656873453e-06.\n",
      "Epoch 18/200\n",
      "80/80 [==============================] - 45s 565ms/step - loss: 0.0358 - mean_iou: 0.4982 - dice_coef: 0.0074 - val_loss: 0.0398 - val_mean_iou: 0.4982 - val_dice_coef: 0.0078\n",
      "\n",
      "Epoch 00018: val_loss did not improve from 0.03898\n"
     ]
    }
   ],
   "source": [
    "model, results = training.train(model=unet, train_generator=t, valid_generator=v, optimizer=ADAM, \n",
    "                                loss='binary_crossentropy', custom_metrics=[mean_iou, dice_coef], \n",
    "                                callbacks=CALLBACKS, epochs=200, train_steps=80, valid_steps=30,\n",
    "                                save_history=False, history_path=None)"
   ]
  },
  {
   "cell_type": "markdown",
   "metadata": {},
   "source": [
    "# Training history "
   ]
  },
  {
   "cell_type": "markdown",
   "metadata": {},
   "source": [
    "Let now see how the loss function and the custom metrics evolved during training."
   ]
  },
  {
   "cell_type": "code",
   "execution_count": 29,
   "metadata": {
    "ExecuteTime": {
     "end_time": "2019-06-14T14:06:44.929623Z",
     "start_time": "2019-06-14T14:06:44.642371Z"
    }
   },
   "outputs": [
    {
     "data": {
      "image/png": "[encoded data removed]",
      "text/plain": [
       "<Figure size 1152x360 with 3 Axes>"
      ]
     },
     "metadata": {
      "needs_background": "light"
     },
     "output_type": "display_data"
    }
   ],
   "source": [
    "training.plot_metrics_history(results, results.shape[0] )"
   ]
  },
  {
   "cell_type": "markdown",
   "metadata": {},
   "source": [
    "Despite a slight difference in the quantities computed in the training set and the ones computed in the validation set, the trend of the curves are pretty much the same. This is a signal that we should not be in an overfitting regime. \n",
    "\n",
    "As far as the actual loss values, it is difficult to interpret whether an order of magnitute around 0.039 is syntom of good performances. On the other hand, custom metrics indeed assume low values, thus testifying for a poor fit."
   ]
  }
 ],
 "metadata": {
  "kernelspec": {
   "display_name": "Python 3",
   "language": "python",
   "name": "python3"
  },
  "language_info": {
   "codemirror_mode": {
    "name": "ipython",
    "version": 3
   },
   "file_extension": ".py",
   "mimetype": "text/x-python",
   "name": "python",
   "nbconvert_exporter": "python",
   "pygments_lexer": "ipython3",
   "version": "3.6.5"
  },
  "toc": {
   "base_numbering": 1,
   "nav_menu": {},
   "number_sections": true,
   "sideBar": true,
   "skip_h1_title": false,
   "title_cell": "Table of Contents",
   "title_sidebar": "Contents",
   "toc_cell": false,
   "toc_position": {
    "height": "calc(100% - 180px)",
    "left": "10px",
    "top": "150px",
    "width": "283.667px"
   },
   "toc_section_display": true,
   "toc_window_display": true
  }
 },
 "nbformat": 4,
 "nbformat_minor": 2
}
